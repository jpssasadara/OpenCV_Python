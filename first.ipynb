{
 "cells": [
  {
   "cell_type": "code",
   "execution_count": 3,
   "metadata": {},
   "outputs": [],
   "source": [
    "import cv2;\n"
   ]
  },
  {
   "cell_type": "code",
   "execution_count": 4,
   "metadata": {},
   "outputs": [
    {
     "name": "stdout",
     "output_type": "stream",
     "text": [
      "4.1.2\n"
     ]
    }
   ],
   "source": [
    "print(cv2.__version__);"
   ]
  },
  {
   "cell_type": "code",
   "execution_count": 5,
   "metadata": {},
   "outputs": [
    {
     "name": "stdout",
     "output_type": "stream",
     "text": [
      "[[163 162 161 ... 170 154 130]\n",
      " [162 162 162 ... 173 155 126]\n",
      " [162 162 163 ... 170 155 128]\n",
      " ...\n",
      " [ 43  42  51 ... 103 101  99]\n",
      " [ 41  42  55 ... 103 105 106]\n",
      " [ 42  44  57 ... 102 106 109]]\n"
     ]
    }
   ],
   "source": [
    "#for reading a image (i am read function)\n",
    "# \"0\" => for black and white image\n",
    "#\"1\" => for coloured image\n",
    "# \"-1\" => for not changed image\n",
    "img = cv2.imread('lena.jpg',0);\n",
    "print(img)"
   ]
  },
  {
   "cell_type": "code",
   "execution_count": 6,
   "metadata": {},
   "outputs": [],
   "source": [
    "# for showing an image ( i am show function )\n",
    "cv2.imshow('image',img)\n",
    "# the time that image should be displaied \n",
    "# if we send 'o' on behalf of '5000' it will be wait until window is closed\n",
    "cv2.waitKey(5000);\n",
    "# After time to destroy image\n",
    "cv2.destroyAllWindows();"
   ]
  },
  {
   "cell_type": "code",
   "execution_count": 7,
   "metadata": {},
   "outputs": [],
   "source": [
    "# for writing image ( i am write functioin )\n",
    "cv2.imwrite('lena_copy.png',img);"
   ]
  },
  {
   "cell_type": "code",
   "execution_count": null,
   "metadata": {},
   "outputs": [],
   "source": [
    "# How to Read, Write, Show Videos from Camera in OpenCV\n"
   ]
  }
 ],
 "metadata": {
  "kernelspec": {
   "display_name": "Python 3",
   "language": "python",
   "name": "python3"
  },
  "language_info": {
   "codemirror_mode": {
    "name": "ipython",
    "version": 3
   },
   "file_extension": ".py",
   "mimetype": "text/x-python",
   "name": "python",
   "nbconvert_exporter": "python",
   "pygments_lexer": "ipython3",
   "version": "3.7.3"
  }
 },
 "nbformat": 4,
 "nbformat_minor": 2
}
